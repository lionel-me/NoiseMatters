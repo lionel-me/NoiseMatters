{
 "cells": [
  {
   "cell_type": "code",
   "execution_count": null,
   "metadata": {},
   "outputs": [],
   "source": [
    "import numpy as np\n",
    "import pyproj\n",
    "from dataset.shanghai import ShanghaiDataset\n",
    "from metrics.shanghai import LONLAT_MEAN, LONLAT_STD\n",
    "from model import RegionDiff\n",
    "from scripts.noise_prior import noise_prior\n",
    "from torch.utils.data import DataLoader\n",
    "from tqdm import tqdm\n",
    "\n",
    "proj = pyproj.Proj(\"+proj=utm +zone=50 +ellps=WGS84 +datum=WGS84 +units=m +no_defs\")"
   ]
  },
  {
   "cell_type": "markdown",
   "metadata": {},
   "source": [
    "#### Construct Noise Prior"
   ]
  },
  {
   "cell_type": "code",
   "execution_count": null,
   "metadata": {},
   "outputs": [],
   "source": [
    "# load trajectory sampled by EPR and Flow information\n",
    "traj_epr = np.load(\"path/to/traj_epr.npy\")\n",
    "\n",
    "# load trained model\n",
    "device = torch.device(\"cuda\") if torch.cuda.is_available() else torch.device(\"cpu\")\n",
    "model = RegionDiff.load_from_checkpoint(\n",
    "    \"/path/to/your/checkpoint\", map_location=device, strict=False\n",
    ")\n",
    "model.eval()\n",
    "for param in model.parameters():\n",
    "    param.requires_grad = False"
   ]
  },
  {
   "cell_type": "code",
   "execution_count": null,
   "metadata": {},
   "outputs": [],
   "source": [
    "latents_epr = []\n",
    "dataset = ShanghaiDataset(\"/path/to/dataset\", target=\"lonlat\")\n",
    "batch_size = 2048\n",
    "loader = DataLoader(dataset, batch_size=batch_size, shuffle=False)\n",
    "\n",
    "for i, batch in enumerate(tqdm(loader)):\n",
    "    batch = {k: v.cuda() for k, v in batch.items()}\n",
    "    traj_epr_ll = traj_epr[i * batch_size : (i + 1) * batch_size]\n",
    "    sample_epr = (traj_epr_ll - LONLAT_MEAN) / LONLAT_STD\n",
    "    latent_epr = model.inverse_sampling(\n",
    "        data=batch,\n",
    "        latent=torch.from_numpy(sample_epr),\n",
    "        show_progress=False,\n",
    "    )\n",
    "    latents_epr.append(latent_epr.cpu().numpy())\n",
    "\n",
    "latents_epr = np.concatenate(latents_epr, axis=0)"
   ]
  },
  {
   "cell_type": "markdown",
   "metadata": {},
   "source": [
    "#### Generate Trajectories"
   ]
  },
  {
   "cell_type": "code",
   "execution_count": null,
   "metadata": {},
   "outputs": [],
   "source": [
    "# generate trajectory\n",
    "traj_gen = []\n",
    "for i, batch in enumerate(tqdm(loader)):\n",
    "    batch = {k: v.cuda() for k, v in batch.items()}\n",
    "    latent = torch.from_numpy(latents_epr[i * batch_size : (i + 1) * batch_size])\n",
    "    latent = noise_prior(latent)\n",
    "    sample = (\n",
    "        model.sampling(data=batch, latent=latent, num_steps=100, show_progress=False)\n",
    "        .detach()\n",
    "        .cpu()\n",
    "        .to(torch.float32)\n",
    "    )\n",
    "    sample_idx = model._reconstruct_idx(sample)\n",
    "    traj_gen.append(sample_idx)\n",
    "traj_gen = torch.cat(traj_gen, axis=0)"
   ]
  },
  {
   "cell_type": "code",
   "execution_count": null,
   "metadata": {},
   "outputs": [],
   "source": [
    "# save generated trajectory\n",
    "np.save(\"path/to/traj_gen.npy\", traj_gen.numpy())"
   ]
  }
 ],
 "metadata": {
  "kernelspec": {
   "display_name": "ads",
   "language": "python",
   "name": "python3"
  },
  "language_info": {
   "codemirror_mode": {
    "name": "ipython",
    "version": 3
   },
   "file_extension": ".py",
   "mimetype": "text/x-python",
   "name": "python",
   "nbconvert_exporter": "python",
   "pygments_lexer": "ipython3",
   "version": "3.10.12"
  }
 },
 "nbformat": 4,
 "nbformat_minor": 2
}
